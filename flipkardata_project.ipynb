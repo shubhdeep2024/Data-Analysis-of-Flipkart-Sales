{
 "cells": [
  {
   "cell_type": "code",
   "execution_count": 1,
   "metadata": {},
   "outputs": [],
   "source": [
    "import pandas as pd \n",
    "import numpy as np\n",
    "import matplotlib.pyplot as plt\n",
    "baby=pd.read_csv(\"baby.csv\")\n",
    "books=pd.read_csv(\"books.csv\")\n",
    "food=pd.read_csv(\"food.csv\")\n",
    "furn=pd.read_csv(\"furn.csv\")\n",
    "laptops=pd.read_csv(\"laptops.csv\")\n",
    "mens_westen=pd.read_csv(\"mens_westernwear.csv\")\n",
    "mobiles=pd.read_csv(\"mobiles.csv\")\n",
    "Women_footwear=pd.read_csv(\"women_footwear.csv\")\n",
    "women_wester=pd.read_csv(\"women_westernwear.csv\")"
   ]
  },
  {
   "cell_type": "markdown",
   "metadata": {},
   "source": [
    "# 1. Baby Product Data"
   ]
  },
  {
   "cell_type": "code",
   "execution_count": 2,
   "metadata": {},
   "outputs": [
    {
     "data": {
      "text/html": [
       "<div>\n",
       "<style scoped>\n",
       "    .dataframe tbody tr th:only-of-type {\n",
       "        vertical-align: middle;\n",
       "    }\n",
       "\n",
       "    .dataframe tbody tr th {\n",
       "        vertical-align: top;\n",
       "    }\n",
       "\n",
       "    .dataframe thead th {\n",
       "        text-align: right;\n",
       "    }\n",
       "</style>\n",
       "<table border=\"1\" class=\"dataframe\">\n",
       "  <thead>\n",
       "    <tr style=\"text-align: right;\">\n",
       "      <th></th>\n",
       "      <th>Product Name</th>\n",
       "      <th>Price</th>\n",
       "      <th>Original Prices</th>\n",
       "      <th>Discount rates</th>\n",
       "    </tr>\n",
       "  </thead>\n",
       "  <tbody>\n",
       "    <tr>\n",
       "      <th>0</th>\n",
       "      <td>Pampers Baby-Dry Pants Diaper - New Born</td>\n",
       "      <td>891</td>\n",
       "      <td>1,049</td>\n",
       "      <td>15% off</td>\n",
       "    </tr>\n",
       "    <tr>\n",
       "      <th>1</th>\n",
       "      <td>Mamaearth Complete Baby Care Kit with Baby Lot...</td>\n",
       "      <td>979</td>\n",
       "      <td>1,195</td>\n",
       "      <td>18% off</td>\n",
       "    </tr>\n",
       "    <tr>\n",
       "      <th>2</th>\n",
       "      <td>Billion Extra Absorb Diaper Pants - M</td>\n",
       "      <td>649</td>\n",
       "      <td>975</td>\n",
       "      <td>33% off</td>\n",
       "    </tr>\n",
       "    <tr>\n",
       "      <th>3</th>\n",
       "      <td>Himalaya Total Care Baby Pants - XL</td>\n",
       "      <td>637</td>\n",
       "      <td>850</td>\n",
       "      <td>25% off</td>\n",
       "    </tr>\n",
       "    <tr>\n",
       "      <th>4</th>\n",
       "      <td>MamyPoko Pants Extra Absorb Diapers - L</td>\n",
       "      <td>1,154</td>\n",
       "      <td>1,499</td>\n",
       "      <td>23% off</td>\n",
       "    </tr>\n",
       "  </tbody>\n",
       "</table>\n",
       "</div>"
      ],
      "text/plain": [
       "                                        Product Name  Price Original Prices  \\\n",
       "0           Pampers Baby-Dry Pants Diaper - New Born    891           1,049   \n",
       "1  Mamaearth Complete Baby Care Kit with Baby Lot...    979           1,195   \n",
       "2              Billion Extra Absorb Diaper Pants - M    649             975   \n",
       "3                Himalaya Total Care Baby Pants - XL    637             850   \n",
       "4            MamyPoko Pants Extra Absorb Diapers - L  1,154           1,499   \n",
       "\n",
       "  Discount rates  \n",
       "0        15% off  \n",
       "1        18% off  \n",
       "2        33% off  \n",
       "3        25% off  \n",
       "4        23% off  "
      ]
     },
     "execution_count": 2,
     "metadata": {},
     "output_type": "execute_result"
    }
   ],
   "source": [
    "baby.head(5)"
   ]
  },
  {
   "cell_type": "code",
   "execution_count": 3,
   "metadata": {},
   "outputs": [
    {
     "name": "stdout",
     "output_type": "stream",
     "text": [
      "Check value is null or no\n",
      " False    800\n",
      "Name: Price, dtype: int64\n",
      "Total sum of price= 496792\n"
     ]
    }
   ],
   "source": [
    "baby_product_price=baby[\"Price\"]\n",
    "null=baby_product_price.isnull().value_counts()\n",
    "print(\"Check value is null or no\\n\",null)\n",
    "b_p_r = [str(i).replace(',', '') for i in baby_product_price]\n",
    "def sum_of_list2(a):\n",
    "    total = 0\n",
    "    for val in a:\n",
    "        total = total + int(val)\n",
    "        #print(total)\n",
    "    return total\n",
    "print (\"Total sum of price=\", sum_of_list2(b_p_r))"
   ]
  },
  {
   "cell_type": "code",
   "execution_count": 4,
   "metadata": {},
   "outputs": [
    {
     "name": "stdout",
     "output_type": "stream",
     "text": [
      "Check value is null or no\n",
      " False    682\n",
      "True     118\n",
      "Name: Original Prices, dtype: int64\n",
      "Oginalri price when fill Nan=0     604410\n",
      "................................................................................\n",
      "Check value is null or no\n",
      " False    682\n",
      "True     118\n",
      "Name: Original Prices, dtype: int64\n",
      "Total Oginalri price when fill Nan=755      693500\n"
     ]
    }
   ],
   "source": [
    "baby_Original_product_price=baby[\"Original Prices\"]\n",
    "null=baby_Original_product_price.isnull().value_counts()\n",
    "print(\"Check value is null or no\\n\",null)\n",
    "bx1_fill=baby_Original_product_price.fillna(0)\n",
    "b_o_p_r = [str(i).replace(',', '') for i in bx1_fill]\n",
    "def sum_of_list2(a):\n",
    "    total = 0\n",
    "    for val in a:\n",
    "        total = total + int(val)\n",
    "    return total\n",
    "print (\"Oginalri price when fill Nan=0    \", sum_of_list2(b_o_p_r))\n",
    "\n",
    "#....................................find mean vale=604410/800=755...................................\n",
    "#>>>>>>>>>>>>>>>>>>>>>>>>>>>>>>>>>>> after fill NaN=755>>>>>>>>>>>>>>>>>>>>>>>>>>>>>>>>>>>>>>>>>>\n",
    "print(\"................................................................................\")\n",
    "baby_Original_product_price1=baby[\"Original Prices\"]\n",
    "null=baby_Original_product_price1.isnull().value_counts()\n",
    "print(\"Check value is null or no\\n\",null)\n",
    "bx1_fill2=baby_Original_product_price1.fillna(755)\n",
    "b_o_p_r1 = [str(i).replace(',', '') for i in bx1_fill2]\n",
    "def sum_of_list2(a):\n",
    "    total = 0\n",
    "    for val in a:\n",
    "        total = total + int(val)\n",
    "    return total\n",
    "print (\"Total Oginalri price when fill Nan=755     \", sum_of_list2(b_o_p_r1))"
   ]
  },
  {
   "cell_type": "code",
   "execution_count": 5,
   "metadata": {},
   "outputs": [
    {
     "data": {
      "image/png": "[encoded data removed]",
      "text/plain": [
       "<Figure size 432x288 with 1 Axes>"
      ]
     },
     "metadata": {
      "needs_background": "light"
     },
     "output_type": "display_data"
    }
   ],
   "source": [
    "status=['NOT_NAN','NAN_VALUES']\n",
    "NaN_Value=118\n",
    "NOT_NAN=682\n",
    "income=[NOT_NAN,NaN_Value]\n",
    "plt.bar(status,income,color=\"red\")\n",
    "plt.title(\"Nan_values_of_Original_prices\")\n",
    "plt.ylabel(\"Values\")\n",
    "plt.show()"
   ]
  },
  {
   "cell_type": "code",
   "execution_count": 6,
   "metadata": {},
   "outputs": [
    {
     "data": {
      "image/png": "[encoded data removed]",
      "text/plain": [
       "<Figure size 432x288 with 1 Axes>"
      ]
     },
     "metadata": {
      "needs_background": "light"
     },
     "output_type": "display_data"
    }
   ],
   "source": [
    "status=['price','Mean_price']\n",
    "price= 604410\n",
    "Mean_price= 693500\n",
    "income=[price,Mean_price]\n",
    "plt.bar(status,income)\n",
    "plt.title(\"original price Avarage\")\n",
    "plt.ylabel(\"Price\")\n",
    "plt.show()"
   ]
  },
  {
   "cell_type": "code",
   "execution_count": 7,
   "metadata": {},
   "outputs": [
    {
     "data": {
      "image/png": "[encoded data removed]",
      "text/plain": [
       "<Figure size 432x288 with 1 Axes>"
      ]
     },
     "metadata": {
      "needs_background": "light"
     },
     "output_type": "display_data"
    }
   ],
   "source": [
    "status=['price','original_price','total_Discount']\n",
    "price= 496792\n",
    "Mean_price=693500\n",
    "Discount=196708\n",
    "income=[price,Mean_price,Discount]\n",
    "plt.bar(status,income,color=\"green\")\n",
    "plt.title(\"Baby_product_Amount_detail\")\n",
    "plt.ylabel(\"Price\")\n",
    "plt.show()"
   ]
  },
  {
   "cell_type": "markdown",
   "metadata": {},
   "source": [
    "# ...................................................................................................................."
   ]
  },
  {
   "cell_type": "markdown",
   "metadata": {},
   "source": [
    "# 2. Book Product Data"
   ]
  },
  {
   "cell_type": "code",
   "execution_count": 8,
   "metadata": {},
   "outputs": [
    {
     "data": {
      "text/html": [
       "<div>\n",
       "<style scoped>\n",
       "    .dataframe tbody tr th:only-of-type {\n",
       "        vertical-align: middle;\n",
       "    }\n",
       "\n",
       "    .dataframe tbody tr th {\n",
       "        vertical-align: top;\n",
       "    }\n",
       "\n",
       "    .dataframe thead th {\n",
       "        text-align: right;\n",
       "    }\n",
       "</style>\n",
       "<table border=\"1\" class=\"dataframe\">\n",
       "  <thead>\n",
       "    <tr style=\"text-align: right;\">\n",
       "      <th></th>\n",
       "      <th>Product Name</th>\n",
       "      <th>Price</th>\n",
       "      <th>Original Prices</th>\n",
       "      <th>Discount rates</th>\n",
       "    </tr>\n",
       "  </thead>\n",
       "  <tbody>\n",
       "    <tr>\n",
       "      <th>0</th>\n",
       "      <td>Writing Fun-Set of 4 Books</td>\n",
       "      <td>108</td>\n",
       "      <td>299</td>\n",
       "      <td>63% off</td>\n",
       "    </tr>\n",
       "    <tr>\n",
       "      <th>1</th>\n",
       "      <td>Death; An Inside Story</td>\n",
       "      <td>239</td>\n",
       "      <td>299</td>\n",
       "      <td>20% off</td>\n",
       "    </tr>\n",
       "    <tr>\n",
       "      <th>2</th>\n",
       "      <td>Pathfinder Nda/Na National Defence Academy &amp; N...</td>\n",
       "      <td>630</td>\n",
       "      <td>775</td>\n",
       "      <td>18% off</td>\n",
       "    </tr>\n",
       "    <tr>\n",
       "      <th>3</th>\n",
       "      <td>Attitude Is Everything: Change Your Attitude ....</td>\n",
       "      <td>131</td>\n",
       "      <td>199</td>\n",
       "      <td>34% off</td>\n",
       "    </tr>\n",
       "    <tr>\n",
       "      <th>4</th>\n",
       "      <td>25 Years Upsc IAS/ Ips Prelims Topic-Wise Solv...</td>\n",
       "      <td>290</td>\n",
       "      <td>525</td>\n",
       "      <td>44% off</td>\n",
       "    </tr>\n",
       "  </tbody>\n",
       "</table>\n",
       "</div>"
      ],
      "text/plain": [
       "                                        Product Name Price Original Prices  \\\n",
       "0                         Writing Fun-Set of 4 Books   108             299   \n",
       "1                             Death; An Inside Story   239             299   \n",
       "2  Pathfinder Nda/Na National Defence Academy & N...   630             775   \n",
       "3  Attitude Is Everything: Change Your Attitude ....   131             199   \n",
       "4  25 Years Upsc IAS/ Ips Prelims Topic-Wise Solv...   290             525   \n",
       "\n",
       "  Discount rates  \n",
       "0        63% off  \n",
       "1        20% off  \n",
       "2        18% off  \n",
       "3        34% off  \n",
       "4        44% off  "
      ]
     },
     "execution_count": 8,
     "metadata": {},
     "output_type": "execute_result"
    }
   ],
   "source": [
    "books.head(5)"
   ]
  },
  {
   "cell_type": "code",
   "execution_count": 9,
   "metadata": {},
   "outputs": [
    {
     "name": "stdout",
     "output_type": "stream",
     "text": [
      "False    800\n",
      "Name: Price, dtype: int64\n"
     ]
    }
   ],
   "source": [
    "book_price=books[\"Price\"]\n",
    "x=book_price.isnull().value_counts()\n",
    "print(x)\n",
    "book_price = [str(i).replace(',', '') for i in book_price]"
   ]
  },
  {
   "cell_type": "code",
   "execution_count": 10,
   "metadata": {},
   "outputs": [
    {
     "name": "stdout",
     "output_type": "stream",
     "text": [
      "books total price= 305797\n"
     ]
    }
   ],
   "source": [
    "def book_sum(a):\n",
    "    total = 0\n",
    "    for val in a:\n",
    "        total = total + int(val)\n",
    "    return total\n",
    "print (\"books total price=\", book_sum(book_price))"
   ]
  },
  {
   "cell_type": "code",
   "execution_count": 11,
   "metadata": {},
   "outputs": [
    {
     "data": {
      "text/plain": [
       "False    754\n",
       "True      46\n",
       "Name: Original Prices, dtype: int64"
      ]
     },
     "execution_count": 11,
     "metadata": {},
     "output_type": "execute_result"
    }
   ],
   "source": [
    "book_original_price=books[\"Original Prices\"]\n",
    "book_original_price.isnull().value_counts()"
   ]
  },
  {
   "cell_type": "code",
   "execution_count": 12,
   "metadata": {},
   "outputs": [
    {
     "data": {
      "text/plain": [
       "False    800\n",
       "Name: Original Prices, dtype: int64"
      ]
     },
     "execution_count": 12,
     "metadata": {},
     "output_type": "execute_result"
    }
   ],
   "source": [
    "bop=book_original_price.fillna(0)\n",
    "bop.isnull().value_counts()"
   ]
  },
  {
   "cell_type": "code",
   "execution_count": 13,
   "metadata": {},
   "outputs": [
    {
     "name": "stdout",
     "output_type": "stream",
     "text": [
      "books total price= 377021\n"
     ]
    }
   ],
   "source": [
    "bop = [str(i).replace(',', '') for i in bop]\n",
    "def book_sum2(a):\n",
    "    total = 0\n",
    "    for val in a:\n",
    "        total = total + int(val)\n",
    "    return total\n",
    "print (\"books total price=\", book_sum2(bop))      # mean value 866"
   ]
  },
  {
   "cell_type": "code",
   "execution_count": 14,
   "metadata": {},
   "outputs": [
    {
     "name": "stdout",
     "output_type": "stream",
     "text": [
      "books total price= 416857\n"
     ]
    }
   ],
   "source": [
    "book_original_price1=books[\"Original Prices\"]\n",
    "bop1=book_original_price1.fillna(866)\n",
    "bop1 = [str(i).replace(',', '') for i in bop1]\n",
    "def book_sum3(a):\n",
    "    total = 0\n",
    "    for val in a:\n",
    "        total = total + int(val)\n",
    "    return total\n",
    "print (\"books total price=\", book_sum3(bop1))"
   ]
  },
  {
   "cell_type": "code",
   "execution_count": 15,
   "metadata": {},
   "outputs": [
    {
     "data": {
      "image/png": "[encoded data removed]",
      "text/plain": [
       "<Figure size 432x288 with 1 Axes>"
      ]
     },
     "metadata": {
      "needs_background": "light"
     },
     "output_type": "display_data"
    }
   ],
   "source": [
    "status=['price','original_price','total_Discount']\n",
    "price= 305797\n",
    "original_price=416857\n",
    "Discount=111060\n",
    "income=[price,original_price,Discount]\n",
    "plt.bar(status,income,color=\"purple\")\n",
    "plt.title(\"Book_product_Amount_detail\")\n",
    "plt.ylabel(\"Price\")\n",
    "plt.show()"
   ]
  },
  {
   "cell_type": "markdown",
   "metadata": {},
   "source": [
    "# ................................................................................................................."
   ]
  },
  {
   "cell_type": "markdown",
   "metadata": {},
   "source": [
    "# 3. Food_product_data"
   ]
  },
  {
   "cell_type": "code",
   "execution_count": 16,
   "metadata": {},
   "outputs": [
    {
     "data": {
      "text/html": [
       "<div>\n",
       "<style scoped>\n",
       "    .dataframe tbody tr th:only-of-type {\n",
       "        vertical-align: middle;\n",
       "    }\n",
       "\n",
       "    .dataframe tbody tr th {\n",
       "        vertical-align: top;\n",
       "    }\n",
       "\n",
       "    .dataframe thead th {\n",
       "        text-align: right;\n",
       "    }\n",
       "</style>\n",
       "<table border=\"1\" class=\"dataframe\">\n",
       "  <thead>\n",
       "    <tr style=\"text-align: right;\">\n",
       "      <th></th>\n",
       "      <th>Product Name</th>\n",
       "      <th>Price</th>\n",
       "      <th>Original Prices</th>\n",
       "      <th>Discount rates</th>\n",
       "    </tr>\n",
       "  </thead>\n",
       "  <tbody>\n",
       "    <tr>\n",
       "      <th>0</th>\n",
       "      <td>Madhur Sugar</td>\n",
       "      <td>48</td>\n",
       "      <td>55</td>\n",
       "      <td>12% off</td>\n",
       "    </tr>\n",
       "    <tr>\n",
       "      <th>1</th>\n",
       "      <td>Rajdhani Rajma Chithra (Whole)</td>\n",
       "      <td>179</td>\n",
       "      <td>180</td>\n",
       "      <td>Nan</td>\n",
       "    </tr>\n",
       "    <tr>\n",
       "      <th>2</th>\n",
       "      <td>Tata Iodized Salt</td>\n",
       "      <td>20</td>\n",
       "      <td>NaN</td>\n",
       "      <td>Nan</td>\n",
       "    </tr>\n",
       "    <tr>\n",
       "      <th>3</th>\n",
       "      <td>Emami Healthy &amp; Tasty Kachchi Ghani Mustard Oi...</td>\n",
       "      <td>133</td>\n",
       "      <td>155</td>\n",
       "      <td>14% off</td>\n",
       "    </tr>\n",
       "    <tr>\n",
       "      <th>4</th>\n",
       "      <td>Roxy Gold Maida</td>\n",
       "      <td>53</td>\n",
       "      <td>55</td>\n",
       "      <td>3% off</td>\n",
       "    </tr>\n",
       "  </tbody>\n",
       "</table>\n",
       "</div>"
      ],
      "text/plain": [
       "                                        Product Name Price Original Prices  \\\n",
       "0                                       Madhur Sugar    48              55   \n",
       "1                     Rajdhani Rajma Chithra (Whole)   179             180   \n",
       "2                                  Tata Iodized Salt    20             NaN   \n",
       "3  Emami Healthy & Tasty Kachchi Ghani Mustard Oi...   133             155   \n",
       "4                                    Roxy Gold Maida    53              55   \n",
       "\n",
       "  Discount rates  \n",
       "0        12% off  \n",
       "1            Nan  \n",
       "2            Nan  \n",
       "3        14% off  \n",
       "4         3% off  "
      ]
     },
     "execution_count": 16,
     "metadata": {},
     "output_type": "execute_result"
    }
   ],
   "source": [
    "food.head(5)"
   ]
  },
  {
   "cell_type": "code",
   "execution_count": 17,
   "metadata": {},
   "outputs": [
    {
     "data": {
      "text/plain": [
       "False    799\n",
       "True       1\n",
       "Name: Price, dtype: int64"
      ]
     },
     "execution_count": 17,
     "metadata": {},
     "output_type": "execute_result"
    }
   ],
   "source": [
    "food_price=food[\"Price\"]\n",
    "food_price.isnull().value_counts()"
   ]
  },
  {
   "cell_type": "code",
   "execution_count": 18,
   "metadata": {},
   "outputs": [
    {
     "data": {
      "text/plain": [
       "False    800\n",
       "Name: Price, dtype: int64"
      ]
     },
     "execution_count": 18,
     "metadata": {},
     "output_type": "execute_result"
    }
   ],
   "source": [
    "food_price=food_price.fillna(393) # find average than fill\n",
    "food_price.isnull().value_counts()"
   ]
  },
  {
   "cell_type": "code",
   "execution_count": 19,
   "metadata": {},
   "outputs": [
    {
     "name": "stdout",
     "output_type": "stream",
     "text": [
      "food total price= 315286\n"
     ]
    }
   ],
   "source": [
    "food_price = [str(i).replace(',', '') for i in food_price]\n",
    "def food_sum(a):\n",
    "    total = 0\n",
    "    for val in a:\n",
    "        total = total + int(val)\n",
    "    return total\n",
    "print (\"food total price=\", food_sum(food_price))"
   ]
  },
  {
   "cell_type": "code",
   "execution_count": 20,
   "metadata": {},
   "outputs": [
    {
     "data": {
      "text/plain": [
       "False    697\n",
       "True     103\n",
       "Name: Original Prices, dtype: int64"
      ]
     },
     "execution_count": 20,
     "metadata": {},
     "output_type": "execute_result"
    }
   ],
   "source": [
    "food_original_price=food[\"Original Prices\"]\n",
    "food_original_price.isnull().value_counts()\n"
   ]
  },
  {
   "cell_type": "code",
   "execution_count": 21,
   "metadata": {},
   "outputs": [
    {
     "data": {
      "text/plain": [
       "False    800\n",
       "Name: Original Prices, dtype: int64"
      ]
     },
     "execution_count": 21,
     "metadata": {},
     "output_type": "execute_result"
    }
   ],
   "source": [
    "food_original_price=food_original_price.fillna(461) # find average than fill\n",
    "food_original_price.isnull().value_counts()"
   ]
  },
  {
   "cell_type": "code",
   "execution_count": 22,
   "metadata": {},
   "outputs": [
    {
     "name": "stdout",
     "output_type": "stream",
     "text": [
      "food total price= 416954\n"
     ]
    }
   ],
   "source": [
    "food_original_price = [str(i).replace(',', '') for i in food_original_price]\n",
    "def food_sum1(a):\n",
    "    total = 0\n",
    "    for val in a:\n",
    "        total = total + int(val)\n",
    "    return total\n",
    "print (\"food total price=\", food_sum1(food_original_price))"
   ]
  },
  {
   "cell_type": "code",
   "execution_count": 23,
   "metadata": {},
   "outputs": [
    {
     "data": {
      "image/png": "[encoded data removed]",
      "text/plain": [
       "<Figure size 432x288 with 1 Axes>"
      ]
     },
     "metadata": {
      "needs_background": "light"
     },
     "output_type": "display_data"
    }
   ],
   "source": [
    "status=['price','original_price','total_Discount']\n",
    "price= 315286\n",
    "original_price=416954\n",
    "Discount=101668\n",
    "income=[price,original_price,Discount]\n",
    "plt.bar(status,income,color=\"red\")\n",
    "plt.title(\"food_product_Amount_detail\")\n",
    "plt.ylabel(\"Price\")\n",
    "plt.show()"
   ]
  },
  {
   "cell_type": "markdown",
   "metadata": {},
   "source": [
    "# ............................................................................................................................"
   ]
  },
  {
   "cell_type": "markdown",
   "metadata": {},
   "source": [
    "# 4. furn_product_data"
   ]
  },
  {
   "cell_type": "code",
   "execution_count": 24,
   "metadata": {},
   "outputs": [
    {
     "data": {
      "text/html": [
       "<div>\n",
       "<style scoped>\n",
       "    .dataframe tbody tr th:only-of-type {\n",
       "        vertical-align: middle;\n",
       "    }\n",
       "\n",
       "    .dataframe tbody tr th {\n",
       "        vertical-align: top;\n",
       "    }\n",
       "\n",
       "    .dataframe thead th {\n",
       "        text-align: right;\n",
       "    }\n",
       "</style>\n",
       "<table border=\"1\" class=\"dataframe\">\n",
       "  <thead>\n",
       "    <tr style=\"text-align: right;\">\n",
       "      <th></th>\n",
       "      <th>Product Name</th>\n",
       "      <th>Price</th>\n",
       "      <th>Original Prices</th>\n",
       "      <th>Discount rates</th>\n",
       "    </tr>\n",
       "  </thead>\n",
       "  <tbody>\n",
       "    <tr>\n",
       "      <th>0</th>\n",
       "      <td>Portronics Cool Pad Wood Portable Laptop Table</td>\n",
       "      <td>1,899</td>\n",
       "      <td>2,699</td>\n",
       "      <td>29% off</td>\n",
       "    </tr>\n",
       "    <tr>\n",
       "      <th>1</th>\n",
       "      <td>Ebee Metal Kitchen Cabinet</td>\n",
       "      <td>580</td>\n",
       "      <td>999</td>\n",
       "      <td>41% off</td>\n",
       "    </tr>\n",
       "    <tr>\n",
       "      <th>2</th>\n",
       "      <td>Traders5253 Carbon Steel Collapsible Wardrobe</td>\n",
       "      <td>1,349</td>\n",
       "      <td>3,884</td>\n",
       "      <td>65% off</td>\n",
       "    </tr>\n",
       "  </tbody>\n",
       "</table>\n",
       "</div>"
      ],
      "text/plain": [
       "                                     Product Name  Price Original Prices  \\\n",
       "0  Portronics Cool Pad Wood Portable Laptop Table  1,899           2,699   \n",
       "1                      Ebee Metal Kitchen Cabinet    580             999   \n",
       "2   Traders5253 Carbon Steel Collapsible Wardrobe  1,349           3,884   \n",
       "\n",
       "  Discount rates  \n",
       "0        29% off  \n",
       "1        41% off  \n",
       "2        65% off  "
      ]
     },
     "execution_count": 24,
     "metadata": {},
     "output_type": "execute_result"
    }
   ],
   "source": [
    "furn.head(3)"
   ]
  },
  {
   "cell_type": "code",
   "execution_count": 25,
   "metadata": {},
   "outputs": [
    {
     "data": {
      "text/plain": [
       "False    800\n",
       "Name: Price, dtype: int64"
      ]
     },
     "execution_count": 25,
     "metadata": {},
     "output_type": "execute_result"
    }
   ],
   "source": [
    "furn_price=furn[\"Price\"]\n",
    "furn_price.isnull().value_counts()"
   ]
  },
  {
   "cell_type": "code",
   "execution_count": 26,
   "metadata": {},
   "outputs": [
    {
     "name": "stdout",
     "output_type": "stream",
     "text": [
      "furn total price= 4138695\n"
     ]
    }
   ],
   "source": [
    "furn_price = [str(i).replace(',', '') for i in furn_price]\n",
    "def furn_sum(a):\n",
    "    total = 0\n",
    "    for val in a:\n",
    "        total = total + int(val)\n",
    "    return total\n",
    "print (\"furn total price=\", furn_sum(furn_price))"
   ]
  },
  {
   "cell_type": "code",
   "execution_count": 27,
   "metadata": {},
   "outputs": [
    {
     "data": {
      "text/plain": [
       "False    795\n",
       "True       5\n",
       "Name: Original Prices, dtype: int64"
      ]
     },
     "execution_count": 27,
     "metadata": {},
     "output_type": "execute_result"
    }
   ],
   "source": [
    "furn_original_price=furn[\"Original Prices\"]\n",
    "furn_original_price.isnull().value_counts()"
   ]
  },
  {
   "cell_type": "code",
   "execution_count": 28,
   "metadata": {},
   "outputs": [
    {
     "name": "stdout",
     "output_type": "stream",
     "text": [
      "furn total price= 6345634\n"
     ]
    }
   ],
   "source": [
    "furn_original_price=furn_original_price.fillna(7882) # find average than fill\n",
    "furn_original_price = [str(i).replace(',', '') for i in furn_original_price]\n",
    "def furn_sum1(a):\n",
    "    total = 0\n",
    "    for val in a:\n",
    "        total = total + int(val)\n",
    "    return total\n",
    "print (\"furn total price=\", furn_sum1(furn_original_price))"
   ]
  },
  {
   "cell_type": "code",
   "execution_count": 29,
   "metadata": {},
   "outputs": [
    {
     "data": {
      "image/png": "[encoded data removed]",
      "text/plain": [
       "<Figure size 432x288 with 1 Axes>"
      ]
     },
     "metadata": {
      "needs_background": "light"
     },
     "output_type": "display_data"
    }
   ],
   "source": [
    "status=['price','original_price','total_Discount']\n",
    "price= 4138695\n",
    "original_price=6345634\n",
    "Discount=2206939\n",
    "income=[price,original_price,Discount]\n",
    "plt.bar(status,income,color=\"green\")\n",
    "plt.title(\"furn_product_Amount_detail\")\n",
    "plt.ylabel(\"Price\")\n",
    "plt.show()"
   ]
  },
  {
   "cell_type": "markdown",
   "metadata": {},
   "source": [
    "# .........................................................................................................."
   ]
  },
  {
   "cell_type": "markdown",
   "metadata": {},
   "source": [
    "# 5. laptops_product_data"
   ]
  },
  {
   "cell_type": "code",
   "execution_count": 30,
   "metadata": {},
   "outputs": [
    {
     "data": {
      "text/html": [
       "<div>\n",
       "<style scoped>\n",
       "    .dataframe tbody tr th:only-of-type {\n",
       "        vertical-align: middle;\n",
       "    }\n",
       "\n",
       "    .dataframe tbody tr th {\n",
       "        vertical-align: top;\n",
       "    }\n",
       "\n",
       "    .dataframe thead th {\n",
       "        text-align: right;\n",
       "    }\n",
       "</style>\n",
       "<table border=\"1\" class=\"dataframe\">\n",
       "  <thead>\n",
       "    <tr style=\"text-align: right;\">\n",
       "      <th></th>\n",
       "      <th>Product Name</th>\n",
       "      <th>Price</th>\n",
       "      <th>Original Prices</th>\n",
       "      <th>Discount rates</th>\n",
       "      <th>Ratings</th>\n",
       "    </tr>\n",
       "  </thead>\n",
       "  <tbody>\n",
       "    <tr>\n",
       "      <th>0</th>\n",
       "      <td>Dell 14 3000 Core i3 7th Gen - (4 GB/1 TB HDD/...</td>\n",
       "      <td>26,990</td>\n",
       "      <td>29,575</td>\n",
       "      <td>8% off</td>\n",
       "      <td>4.1</td>\n",
       "    </tr>\n",
       "    <tr>\n",
       "      <th>1</th>\n",
       "      <td>HP Pavilion Core i5 9th Gen - (8 GB/1 TB HDD/W...</td>\n",
       "      <td>52,990</td>\n",
       "      <td>66,041</td>\n",
       "      <td>19% off</td>\n",
       "      <td>4.2</td>\n",
       "    </tr>\n",
       "    <tr>\n",
       "      <th>2</th>\n",
       "      <td>HP 15s Ryzen 3 Dual Core - (4 GB/256 GB SSD/Wi...</td>\n",
       "      <td>30,990</td>\n",
       "      <td>32,598</td>\n",
       "      <td>4% off</td>\n",
       "      <td>4.5</td>\n",
       "    </tr>\n",
       "    <tr>\n",
       "      <th>3</th>\n",
       "      <td>HP 15 Pentium Gold - (4 GB/1 TB HDD/Windows 10...</td>\n",
       "      <td>24,990</td>\n",
       "      <td>25,556</td>\n",
       "      <td>2% off</td>\n",
       "      <td>4.4</td>\n",
       "    </tr>\n",
       "    <tr>\n",
       "      <th>4</th>\n",
       "      <td>Lenovo Ideapad S145 APU Dual Core A6 - (4 GB/1...</td>\n",
       "      <td>20,990</td>\n",
       "      <td>22,392</td>\n",
       "      <td>6% off</td>\n",
       "      <td>4.0</td>\n",
       "    </tr>\n",
       "  </tbody>\n",
       "</table>\n",
       "</div>"
      ],
      "text/plain": [
       "                                        Product Name   Price Original Prices  \\\n",
       "0  Dell 14 3000 Core i3 7th Gen - (4 GB/1 TB HDD/...  26,990          29,575   \n",
       "1  HP Pavilion Core i5 9th Gen - (8 GB/1 TB HDD/W...  52,990          66,041   \n",
       "2  HP 15s Ryzen 3 Dual Core - (4 GB/256 GB SSD/Wi...  30,990          32,598   \n",
       "3  HP 15 Pentium Gold - (4 GB/1 TB HDD/Windows 10...  24,990          25,556   \n",
       "4  Lenovo Ideapad S145 APU Dual Core A6 - (4 GB/1...  20,990          22,392   \n",
       "\n",
       "  Discount rates  Ratings  \n",
       "0         8% off      4.1  \n",
       "1        19% off      4.2  \n",
       "2         4% off      4.5  \n",
       "3         2% off      4.4  \n",
       "4         6% off      4.0  "
      ]
     },
     "execution_count": 30,
     "metadata": {},
     "output_type": "execute_result"
    }
   ],
   "source": [
    "laptops.head(5)"
   ]
  },
  {
   "cell_type": "code",
   "execution_count": 31,
   "metadata": {},
   "outputs": [
    {
     "data": {
      "text/plain": [
       "False    384\n",
       "Name: Price, dtype: int64"
      ]
     },
     "execution_count": 31,
     "metadata": {},
     "output_type": "execute_result"
    }
   ],
   "source": [
    "laptop_price=laptops[\"Price\"]\n",
    "laptop_price.isnull().value_counts()"
   ]
  },
  {
   "cell_type": "code",
   "execution_count": 32,
   "metadata": {},
   "outputs": [
    {
     "name": "stdout",
     "output_type": "stream",
     "text": [
      "laptop total price= 23824187\n"
     ]
    }
   ],
   "source": [
    "laptop_price = [str(i).replace(',', '') for i in laptop_price]\n",
    "def laptop_sum1(a):\n",
    "    total = 0\n",
    "    for val in a:\n",
    "        total = total + int(val)\n",
    "    return total\n",
    "print (\"laptop total price=\", laptop_sum1(laptop_price))"
   ]
  },
  {
   "cell_type": "code",
   "execution_count": 33,
   "metadata": {},
   "outputs": [
    {
     "data": {
      "text/plain": [
       "False    345\n",
       "True      39\n",
       "Name: Original Prices, dtype: int64"
      ]
     },
     "execution_count": 33,
     "metadata": {},
     "output_type": "execute_result"
    }
   ],
   "source": [
    "laptop_product_price=laptops[\"Original Prices\"]\n",
    "laptop_product_price.isnull().value_counts()"
   ]
  },
  {
   "cell_type": "code",
   "execution_count": 34,
   "metadata": {},
   "outputs": [
    {
     "name": "stdout",
     "output_type": "stream",
     "text": [
      "laptop total price= 26563604\n"
     ]
    }
   ],
   "source": [
    "laptop_product_price=laptop_product_price.fillna(62798) # find mean then fill\n",
    "laptop_product_price = [str(i).replace(',', '') for i in laptop_product_price]\n",
    "def laptop_sum2(a):\n",
    "    total = 0\n",
    "    for val in a:\n",
    "        total = total + int(val)\n",
    "    return total\n",
    "print (\"laptop total price=\", laptop_sum2(laptop_product_price))"
   ]
  },
  {
   "cell_type": "code",
   "execution_count": 35,
   "metadata": {},
   "outputs": [
    {
     "data": {
      "image/png": "[encoded data removed]",
      "text/plain": [
       "<Figure size 432x288 with 1 Axes>"
      ]
     },
     "metadata": {
      "needs_background": "light"
     },
     "output_type": "display_data"
    }
   ],
   "source": [
    "status=['price','original_price','total_Discount']\n",
    "price= 23824187\n",
    "original_price=26563604\n",
    "Discount=2739417\n",
    "income=[price,original_price,Discount]\n",
    "plt.bar(status,income)\n",
    "plt.title(\"laptop_product_Amount_detail\")\n",
    "plt.ylabel(\"price\")\n",
    "plt.show()"
   ]
  },
  {
   "cell_type": "markdown",
   "metadata": {},
   "source": [
    "# ................................................................................................................"
   ]
  },
  {
   "cell_type": "markdown",
   "metadata": {},
   "source": [
    "# 6.mens_westen_product_data"
   ]
  },
  {
   "cell_type": "code",
   "execution_count": 36,
   "metadata": {},
   "outputs": [
    {
     "data": {
      "text/html": [
       "<div>\n",
       "<style scoped>\n",
       "    .dataframe tbody tr th:only-of-type {\n",
       "        vertical-align: middle;\n",
       "    }\n",
       "\n",
       "    .dataframe tbody tr th {\n",
       "        vertical-align: top;\n",
       "    }\n",
       "\n",
       "    .dataframe thead th {\n",
       "        text-align: right;\n",
       "    }\n",
       "</style>\n",
       "<table border=\"1\" class=\"dataframe\">\n",
       "  <thead>\n",
       "    <tr style=\"text-align: right;\">\n",
       "      <th></th>\n",
       "      <th>Product Name</th>\n",
       "      <th>Price</th>\n",
       "      <th>Original Prices</th>\n",
       "      <th>Discount rates</th>\n",
       "      <th>Brand</th>\n",
       "      <th>Image URLS</th>\n",
       "    </tr>\n",
       "  </thead>\n",
       "  <tbody>\n",
       "    <tr>\n",
       "      <th>0</th>\n",
       "      <td>Solid Men Black Track Pants</td>\n",
       "      <td>989</td>\n",
       "      <td>1,599</td>\n",
       "      <td>38% off</td>\n",
       "      <td>Wildcraft</td>\n",
       "      <td>https://rukminim1.flixcart.com/image/329/395/j...</td>\n",
       "    </tr>\n",
       "    <tr>\n",
       "      <th>1</th>\n",
       "      <td>Men Printed Casual Shirt</td>\n",
       "      <td>1,614</td>\n",
       "      <td>1,899</td>\n",
       "      <td>15% off</td>\n",
       "      <td>Louis Philippe Jeans</td>\n",
       "      <td>https://rukminim1.flixcart.com/image/329/395/k...</td>\n",
       "    </tr>\n",
       "    <tr>\n",
       "      <th>2</th>\n",
       "      <td>Men &amp; Women Solid Ankle Length</td>\n",
       "      <td>177</td>\n",
       "      <td>439</td>\n",
       "      <td>59% off</td>\n",
       "      <td>ADIDAS</td>\n",
       "      <td>https://rukminim1.flixcart.com/image/329/395/k...</td>\n",
       "    </tr>\n",
       "    <tr>\n",
       "      <th>3</th>\n",
       "      <td>Men &amp; Women Solid Ankle Length</td>\n",
       "      <td>199</td>\n",
       "      <td>449</td>\n",
       "      <td>55% off</td>\n",
       "      <td>Jockey</td>\n",
       "      <td>https://rukminim1.flixcart.com/image/329/395/k...</td>\n",
       "    </tr>\n",
       "    <tr>\n",
       "      <th>4</th>\n",
       "      <td>Men &amp; Women Color Block Ankle Length</td>\n",
       "      <td>223</td>\n",
       "      <td>599</td>\n",
       "      <td>62% off</td>\n",
       "      <td>APPALON</td>\n",
       "      <td>https://rukminim1.flixcart.com/image/329/395/j...</td>\n",
       "    </tr>\n",
       "  </tbody>\n",
       "</table>\n",
       "</div>"
      ],
      "text/plain": [
       "                           Product Name  Price Original Prices Discount rates  \\\n",
       "0           Solid Men Black Track Pants    989           1,599        38% off   \n",
       "1              Men Printed Casual Shirt  1,614           1,899        15% off   \n",
       "2        Men & Women Solid Ankle Length    177             439        59% off   \n",
       "3        Men & Women Solid Ankle Length    199             449        55% off   \n",
       "4  Men & Women Color Block Ankle Length    223             599        62% off   \n",
       "\n",
       "                  Brand                                         Image URLS  \n",
       "0             Wildcraft  https://rukminim1.flixcart.com/image/329/395/j...  \n",
       "1  Louis Philippe Jeans  https://rukminim1.flixcart.com/image/329/395/k...  \n",
       "2                ADIDAS  https://rukminim1.flixcart.com/image/329/395/k...  \n",
       "3                Jockey  https://rukminim1.flixcart.com/image/329/395/k...  \n",
       "4               APPALON  https://rukminim1.flixcart.com/image/329/395/j...  "
      ]
     },
     "execution_count": 36,
     "metadata": {},
     "output_type": "execute_result"
    }
   ],
   "source": [
    "mens_westen.head(5)"
   ]
  },
  {
   "cell_type": "code",
   "execution_count": 37,
   "metadata": {},
   "outputs": [
    {
     "data": {
      "text/plain": [
       "False    800\n",
       "Name: Price, dtype: int64"
      ]
     },
     "execution_count": 37,
     "metadata": {},
     "output_type": "execute_result"
    }
   ],
   "source": [
    "mens_westen_price=mens_westen[\"Price\"]\n",
    "mens_westen_price.isnull().value_counts()"
   ]
  },
  {
   "cell_type": "code",
   "execution_count": 38,
   "metadata": {},
   "outputs": [
    {
     "name": "stdout",
     "output_type": "stream",
     "text": [
      "mens_westen_price= 357889\n"
     ]
    }
   ],
   "source": [
    "mens_westen_price = [str(i).replace(',', '') for i in mens_westen_price]\n",
    "def mens_westen_sum(a):\n",
    "    total = 0\n",
    "    for val in a:\n",
    "        total = total + int(val)\n",
    "    return total\n",
    "print (\"mens_westen_price=\", mens_westen_sum(mens_westen_price))"
   ]
  },
  {
   "cell_type": "code",
   "execution_count": 39,
   "metadata": {},
   "outputs": [
    {
     "data": {
      "text/plain": [
       "False    790\n",
       "True      10\n",
       "Name: Original Prices, dtype: int64"
      ]
     },
     "execution_count": 39,
     "metadata": {},
     "output_type": "execute_result"
    }
   ],
   "source": [
    "mens_westen_original_price=mens_westen[\"Original Prices\"]\n",
    "mens_westen_original_price.isnull().value_counts()\n"
   ]
  },
  {
   "cell_type": "code",
   "execution_count": 40,
   "metadata": {},
   "outputs": [
    {
     "name": "stdout",
     "output_type": "stream",
     "text": [
      "mens_westen_price= 883861\n"
     ]
    }
   ],
   "source": [
    "mens_westen_original_price=mens_westen_original_price.fillna(1091) #find avareg then fill\n",
    "mens_westen_original_price = [str(i).replace(',', '') for i in mens_westen_original_price]\n",
    "def mens_westen_sum1(a):\n",
    "    total = 0\n",
    "    for val in a:\n",
    "        total = total + int(val)\n",
    "    return total\n",
    "print (\"mens_westen_price=\", mens_westen_sum1(mens_westen_original_price))"
   ]
  },
  {
   "cell_type": "code",
   "execution_count": 41,
   "metadata": {},
   "outputs": [
    {
     "data": {
      "image/png": "[encoded data removed]",
      "text/plain": [
       "<Figure size 432x288 with 1 Axes>"
      ]
     },
     "metadata": {
      "needs_background": "light"
     },
     "output_type": "display_data"
    }
   ],
   "source": [
    "status=['price','original_price','total_Discount']\n",
    "price= 357889\n",
    "original_price=883861\n",
    "Discount=525972\n",
    "income=[price,original_price,Discount]\n",
    "plt.bar(status,income,color=\"brown\")\n",
    "plt.title(\"mens_westen_product_Amount_detail\")\n",
    "plt.ylabel(\"price\")\n",
    "plt.show()"
   ]
  },
  {
   "cell_type": "markdown",
   "metadata": {},
   "source": [
    "# ....................................................................................................................."
   ]
  },
  {
   "cell_type": "markdown",
   "metadata": {},
   "source": [
    "# 7. mobiles_data_product"
   ]
  },
  {
   "cell_type": "code",
   "execution_count": 42,
   "metadata": {},
   "outputs": [
    {
     "data": {
      "text/html": [
       "<div>\n",
       "<style scoped>\n",
       "    .dataframe tbody tr th:only-of-type {\n",
       "        vertical-align: middle;\n",
       "    }\n",
       "\n",
       "    .dataframe tbody tr th {\n",
       "        vertical-align: top;\n",
       "    }\n",
       "\n",
       "    .dataframe thead th {\n",
       "        text-align: right;\n",
       "    }\n",
       "</style>\n",
       "<table border=\"1\" class=\"dataframe\">\n",
       "  <thead>\n",
       "    <tr style=\"text-align: right;\">\n",
       "      <th></th>\n",
       "      <th>Product Name</th>\n",
       "      <th>Price</th>\n",
       "      <th>Original Prices</th>\n",
       "      <th>Discount rates</th>\n",
       "      <th>Ratings</th>\n",
       "    </tr>\n",
       "  </thead>\n",
       "  <tbody>\n",
       "    <tr>\n",
       "      <th>0</th>\n",
       "      <td>Realme 6 (Comet Blue, 128 GB)</td>\n",
       "      <td>16,999</td>\n",
       "      <td>NaN</td>\n",
       "      <td>Nan</td>\n",
       "      <td>4.4</td>\n",
       "    </tr>\n",
       "    <tr>\n",
       "      <th>1</th>\n",
       "      <td>Redmi Note 8 Pro (Electric Blue, 128 GB)</td>\n",
       "      <td>17,785</td>\n",
       "      <td>17,999</td>\n",
       "      <td>1% off</td>\n",
       "      <td>4.5</td>\n",
       "    </tr>\n",
       "    <tr>\n",
       "      <th>2</th>\n",
       "      <td>POCO X2 (Atlantis Blue, 128 GB)</td>\n",
       "      <td>18,499</td>\n",
       "      <td>18,999</td>\n",
       "      <td>2% off</td>\n",
       "      <td>4.5</td>\n",
       "    </tr>\n",
       "  </tbody>\n",
       "</table>\n",
       "</div>"
      ],
      "text/plain": [
       "                               Product Name   Price Original Prices  \\\n",
       "0             Realme 6 (Comet Blue, 128 GB)  16,999             NaN   \n",
       "1  Redmi Note 8 Pro (Electric Blue, 128 GB)  17,785          17,999   \n",
       "2           POCO X2 (Atlantis Blue, 128 GB)  18,499          18,999   \n",
       "\n",
       "  Discount rates  Ratings  \n",
       "0            Nan      4.4  \n",
       "1         1% off      4.5  \n",
       "2         2% off      4.5  "
      ]
     },
     "execution_count": 42,
     "metadata": {},
     "output_type": "execute_result"
    }
   ],
   "source": [
    "mobiles.head(3)"
   ]
  },
  {
   "cell_type": "code",
   "execution_count": 43,
   "metadata": {},
   "outputs": [
    {
     "data": {
      "text/plain": [
       "False    600\n",
       "Name: Price, dtype: int64"
      ]
     },
     "execution_count": 43,
     "metadata": {},
     "output_type": "execute_result"
    }
   ],
   "source": [
    "mobiles_price=mobiles[\"Price\"]\n",
    "mobiles_price.isnull().value_counts()"
   ]
  },
  {
   "cell_type": "code",
   "execution_count": 44,
   "metadata": {},
   "outputs": [
    {
     "name": "stdout",
     "output_type": "stream",
     "text": [
      "mobile_price= 5974520\n"
     ]
    }
   ],
   "source": [
    "mobiles_price = [str(i).replace(',', '') for i in mobiles_price]\n",
    "def mobiles_sum(a):\n",
    "    total = 0\n",
    "    for val in a:\n",
    "        total = total + int(val)\n",
    "    return total\n",
    "print (\"mobile_price=\", mobiles_sum(mobiles_price))"
   ]
  },
  {
   "cell_type": "code",
   "execution_count": 45,
   "metadata": {},
   "outputs": [
    {
     "name": "stdout",
     "output_type": "stream",
     "text": [
      "mobile_original_price= 6641472\n"
     ]
    }
   ],
   "source": [
    "mobiles_original_price=mobiles[\"Original Prices\"]\n",
    "mobiles_original_price.isnull().value_counts()\n",
    "mobiles_original_price=mobiles_original_price.fillna(7740) #find mean then fill\n",
    "mobiles_original_price = [str(i).replace(',', '') for i in mobiles_original_price]\n",
    "def mobiles_sum1(a):\n",
    "    total = 0\n",
    "    for val in a:\n",
    "        total = total + int(val)\n",
    "    return total\n",
    "print (\"mobile_original_price=\", mobiles_sum1(mobiles_original_price))"
   ]
  },
  {
   "cell_type": "code",
   "execution_count": 46,
   "metadata": {},
   "outputs": [
    {
     "data": {
      "image/png": "[encoded data removed]",
      "text/plain": [
       "<Figure size 432x288 with 1 Axes>"
      ]
     },
     "metadata": {
      "needs_background": "light"
     },
     "output_type": "display_data"
    }
   ],
   "source": [
    "status=['price','original_price','total_Discount']\n",
    "price= 5974520\n",
    "original_price=6641472\n",
    "Discount=666952\n",
    "income=[price,original_price,Discount]\n",
    "plt.bar(status,income,color=\"c\")\n",
    "plt.title(\"mobile_product_Amount_detail\")\n",
    "plt.ylabel(\"price\")\n",
    "plt.show()"
   ]
  },
  {
   "cell_type": "markdown",
   "metadata": {},
   "source": [
    "# ...................................................................................................................."
   ]
  },
  {
   "cell_type": "markdown",
   "metadata": {},
   "source": [
    "# 8. Women_footwear_product_data"
   ]
  },
  {
   "cell_type": "code",
   "execution_count": 47,
   "metadata": {},
   "outputs": [
    {
     "data": {
      "text/html": [
       "<div>\n",
       "<style scoped>\n",
       "    .dataframe tbody tr th:only-of-type {\n",
       "        vertical-align: middle;\n",
       "    }\n",
       "\n",
       "    .dataframe tbody tr th {\n",
       "        vertical-align: top;\n",
       "    }\n",
       "\n",
       "    .dataframe thead th {\n",
       "        text-align: right;\n",
       "    }\n",
       "</style>\n",
       "<table border=\"1\" class=\"dataframe\">\n",
       "  <thead>\n",
       "    <tr style=\"text-align: right;\">\n",
       "      <th></th>\n",
       "      <th>Product Name</th>\n",
       "      <th>Price</th>\n",
       "      <th>Original Prices</th>\n",
       "      <th>Discount rates</th>\n",
       "      <th>Brand</th>\n",
       "      <th>Image URLS</th>\n",
       "    </tr>\n",
       "  </thead>\n",
       "  <tbody>\n",
       "    <tr>\n",
       "      <th>0</th>\n",
       "      <td>Track V2 IDP Running Shoes For Women</td>\n",
       "      <td>1,999</td>\n",
       "      <td>3,999</td>\n",
       "      <td>50% off</td>\n",
       "      <td>Puma</td>\n",
       "      <td>https://rukminim1.flixcart.com/image/329/395/k...</td>\n",
       "    </tr>\n",
       "    <tr>\n",
       "      <th>1</th>\n",
       "      <td>Dwane Slip-On IDP Running Shoes For Women</td>\n",
       "      <td>1,519</td>\n",
       "      <td>3,799</td>\n",
       "      <td>60% off</td>\n",
       "      <td>Puma</td>\n",
       "      <td>https://rukminim1.flixcart.com/image/329/395/k...</td>\n",
       "    </tr>\n",
       "    <tr>\n",
       "      <th>2</th>\n",
       "      <td>Women Beige Flats Sandal</td>\n",
       "      <td>284</td>\n",
       "      <td>549</td>\n",
       "      <td>48% off</td>\n",
       "      <td>Footrendz</td>\n",
       "      <td>https://rukminim1.flixcart.com/image/329/395/s...</td>\n",
       "    </tr>\n",
       "  </tbody>\n",
       "</table>\n",
       "</div>"
      ],
      "text/plain": [
       "                                Product Name  Price Original Prices  \\\n",
       "0       Track V2 IDP Running Shoes For Women  1,999           3,999   \n",
       "1  Dwane Slip-On IDP Running Shoes For Women  1,519           3,799   \n",
       "2                   Women Beige Flats Sandal    284             549   \n",
       "\n",
       "  Discount rates      Brand                                         Image URLS  \n",
       "0        50% off       Puma  https://rukminim1.flixcart.com/image/329/395/k...  \n",
       "1        60% off       Puma  https://rukminim1.flixcart.com/image/329/395/k...  \n",
       "2        48% off  Footrendz  https://rukminim1.flixcart.com/image/329/395/s...  "
      ]
     },
     "execution_count": 47,
     "metadata": {},
     "output_type": "execute_result"
    }
   ],
   "source": [
    "Women_footwear.head(3)"
   ]
  },
  {
   "cell_type": "code",
   "execution_count": 48,
   "metadata": {},
   "outputs": [
    {
     "data": {
      "text/plain": [
       "False    800\n",
       "Name: Price, dtype: int64"
      ]
     },
     "execution_count": 48,
     "metadata": {},
     "output_type": "execute_result"
    }
   ],
   "source": [
    "Women_footwear_price=Women_footwear[\"Price\"]\n",
    "Women_footwear_price.isnull().value_counts()"
   ]
  },
  {
   "cell_type": "code",
   "execution_count": 49,
   "metadata": {},
   "outputs": [
    {
     "name": "stdout",
     "output_type": "stream",
     "text": [
      "Women_footwear_price= 597704\n"
     ]
    }
   ],
   "source": [
    "Women_footwear_price = [str(i).replace(',', '') for i in Women_footwear_price]\n",
    "def Women_footwear_sum1(a):\n",
    "    total = 0\n",
    "    for val in a:\n",
    "        total = total + int(val)\n",
    "    return total\n",
    "print (\"Women_footwear_price=\", Women_footwear_sum1(Women_footwear_price))"
   ]
  },
  {
   "cell_type": "code",
   "execution_count": 50,
   "metadata": {},
   "outputs": [
    {
     "data": {
      "text/plain": [
       "False    714\n",
       "True      86\n",
       "Name: Original Prices, dtype: int64"
      ]
     },
     "execution_count": 50,
     "metadata": {},
     "output_type": "execute_result"
    }
   ],
   "source": [
    "Women_footwear_original_price=Women_footwear[\"Original Prices\"]\n",
    "Women_footwear_original_price.isnull().value_counts()"
   ]
  },
  {
   "cell_type": "code",
   "execution_count": 51,
   "metadata": {},
   "outputs": [
    {
     "name": "stdout",
     "output_type": "stream",
     "text": [
      "Women_footwear_price= 1075282\n"
     ]
    }
   ],
   "source": [
    "Women_footwear_original_price=Women_footwear_original_price.fillna(1213) # find avarage than fill\n",
    "Women_footwear_original_price = [str(i).replace(',', '') for i in Women_footwear_original_price]\n",
    "def Women_footwear_sum2(a):\n",
    "    total = 0\n",
    "    for val in a:\n",
    "        total = total + int(val)\n",
    "    return total\n",
    "print (\"Women_footwear_price=\", Women_footwear_sum2(Women_footwear_original_price))"
   ]
  },
  {
   "cell_type": "code",
   "execution_count": 52,
   "metadata": {},
   "outputs": [
    {
     "data": {
      "image/png": "[encoded data removed]",
      "text/plain": [
       "<Figure size 432x288 with 1 Axes>"
      ]
     },
     "metadata": {
      "needs_background": "light"
     },
     "output_type": "display_data"
    }
   ],
   "source": [
    "status=['price','original_price','total_Discount']\n",
    "price= 597704\n",
    "original_price=1075282\n",
    "Discount=477578\n",
    "income=[price,original_price,Discount]\n",
    "plt.bar(status,income,color=\"m\")\n",
    "plt.title(\"Women_footwear_product_Amount_detail\")\n",
    "plt.ylabel(\"price\")\n",
    "plt.show()"
   ]
  },
  {
   "cell_type": "markdown",
   "metadata": {},
   "source": [
    "# ........................................................................."
   ]
  },
  {
   "cell_type": "markdown",
   "metadata": {},
   "source": [
    "# 9. women_wester_product_data"
   ]
  },
  {
   "cell_type": "code",
   "execution_count": 53,
   "metadata": {},
   "outputs": [
    {
     "data": {
      "text/html": [
       "<div>\n",
       "<style scoped>\n",
       "    .dataframe tbody tr th:only-of-type {\n",
       "        vertical-align: middle;\n",
       "    }\n",
       "\n",
       "    .dataframe tbody tr th {\n",
       "        vertical-align: top;\n",
       "    }\n",
       "\n",
       "    .dataframe thead th {\n",
       "        text-align: right;\n",
       "    }\n",
       "</style>\n",
       "<table border=\"1\" class=\"dataframe\">\n",
       "  <thead>\n",
       "    <tr style=\"text-align: right;\">\n",
       "      <th></th>\n",
       "      <th>Product Name</th>\n",
       "      <th>Price</th>\n",
       "      <th>Original_Prices</th>\n",
       "      <th>Discount rates</th>\n",
       "      <th>Brand</th>\n",
       "      <th>Image URLS</th>\n",
       "    </tr>\n",
       "  </thead>\n",
       "  <tbody>\n",
       "    <tr>\n",
       "      <th>0</th>\n",
       "      <td>Skinny Women Grey Jeans</td>\n",
       "      <td>714</td>\n",
       "      <td>1,499</td>\n",
       "      <td>52% off</td>\n",
       "      <td>Flying Machine</td>\n",
       "      <td>https://rukminim1.flixcart.com/image/329/395/k...</td>\n",
       "    </tr>\n",
       "    <tr>\n",
       "      <th>1</th>\n",
       "      <td>Printed Women Round Neck White T-Shirt</td>\n",
       "      <td>499</td>\n",
       "      <td>999</td>\n",
       "      <td>50% off</td>\n",
       "      <td>Pepe Jeans</td>\n",
       "      <td>https://rukminim1.flixcart.com/image/329/395/k...</td>\n",
       "    </tr>\n",
       "    <tr>\n",
       "      <th>2</th>\n",
       "      <td>Casual Roll-up Sleeve Solid Women Dark Blue Top</td>\n",
       "      <td>260</td>\n",
       "      <td>999</td>\n",
       "      <td>73% off</td>\n",
       "      <td>KURTI WORLD</td>\n",
       "      <td>https://rukminim1.flixcart.com/image/329/395/k...</td>\n",
       "    </tr>\n",
       "  </tbody>\n",
       "</table>\n",
       "</div>"
      ],
      "text/plain": [
       "                                      Product Name Price Original_Prices  \\\n",
       "0                          Skinny Women Grey Jeans   714           1,499   \n",
       "1           Printed Women Round Neck White T-Shirt   499             999   \n",
       "2  Casual Roll-up Sleeve Solid Women Dark Blue Top   260             999   \n",
       "\n",
       "  Discount rates           Brand  \\\n",
       "0        52% off  Flying Machine   \n",
       "1        50% off      Pepe Jeans   \n",
       "2        73% off     KURTI WORLD   \n",
       "\n",
       "                                          Image URLS  \n",
       "0  https://rukminim1.flixcart.com/image/329/395/k...  \n",
       "1  https://rukminim1.flixcart.com/image/329/395/k...  \n",
       "2  https://rukminim1.flixcart.com/image/329/395/k...  "
      ]
     },
     "execution_count": 53,
     "metadata": {},
     "output_type": "execute_result"
    }
   ],
   "source": [
    "women_wester.head(3)"
   ]
  },
  {
   "cell_type": "code",
   "execution_count": 54,
   "metadata": {},
   "outputs": [
    {
     "data": {
      "text/plain": [
       "False    800\n",
       "Name: Price, dtype: int64"
      ]
     },
     "execution_count": 54,
     "metadata": {},
     "output_type": "execute_result"
    }
   ],
   "source": [
    "women_wester_price=women_wester[\"Price\"]\n",
    "women_wester_price.isnull().value_counts()"
   ]
  },
  {
   "cell_type": "code",
   "execution_count": 55,
   "metadata": {},
   "outputs": [
    {
     "name": "stdout",
     "output_type": "stream",
     "text": [
      "women_wester_price= 452599\n"
     ]
    }
   ],
   "source": [
    "women_wester_price = [str(i).replace(',', '') for i in women_wester_price]\n",
    "def Women_wester_sum1(a):\n",
    "    total = 0\n",
    "    for val in a:\n",
    "        total = total + int(val)\n",
    "    return total\n",
    "print (\"women_wester_price=\", Women_wester_sum1(women_wester_price))"
   ]
  },
  {
   "cell_type": "code",
   "execution_count": 56,
   "metadata": {},
   "outputs": [
    {
     "data": {
      "text/plain": [
       "False    794\n",
       "True       6\n",
       "Name: Original_Prices, dtype: int64"
      ]
     },
     "execution_count": 56,
     "metadata": {},
     "output_type": "execute_result"
    }
   ],
   "source": [
    "women_wester_original_price=women_wester[\"Original_Prices\"]\n",
    "women_wester_original_price.isnull().value_counts()"
   ]
  },
  {
   "cell_type": "code",
   "execution_count": 57,
   "metadata": {},
   "outputs": [
    {
     "name": "stdout",
     "output_type": "stream",
     "text": [
      "women_wester_original_price= 1134768\n"
     ]
    }
   ],
   "source": [
    "women_wester_original_price=women_wester_original_price.fillna(1407) # find avarage then fill\n",
    "women_wester_original_price = [str(i).replace(',', '') for i in women_wester_original_price]\n",
    "def Women_wester_sum2(a):\n",
    "    total = 0\n",
    "    for val in a:\n",
    "        total = total + int(val)\n",
    "    return total\n",
    "print (\"women_wester_original_price=\", Women_wester_sum2(women_wester_original_price))"
   ]
  },
  {
   "cell_type": "code",
   "execution_count": 58,
   "metadata": {},
   "outputs": [
    {
     "data": {
      "image/png": "[encoded data removed]",
      "text/plain": [
       "<Figure size 432x288 with 1 Axes>"
      ]
     },
     "metadata": {
      "needs_background": "light"
     },
     "output_type": "display_data"
    }
   ],
   "source": [
    "status=['price','original_price','total_Discount']\n",
    "price= 452599\n",
    "original_price=1126326\n",
    "Discount=673727\n",
    "income=[price,original_price,Discount]\n",
    "plt.bar(status,income,color=\"g\")\n",
    "plt.title(\"women_wester_product_Amount_detail\")\n",
    "plt.ylabel(\"price\")\n",
    "plt.show()"
   ]
  },
  {
   "cell_type": "markdown",
   "metadata": {},
   "source": [
    "# ............................................................................................................................"
   ]
  },
  {
   "cell_type": "markdown",
   "metadata": {},
   "source": [
    "# Total_turn_over_detail"
   ]
  },
  {
   "cell_type": "code",
   "execution_count": 59,
   "metadata": {},
   "outputs": [
    {
     "name": "stdout",
     "output_type": "stream",
     "text": [
      "total_Price_list= 36463469\n",
      "total_original_price_list= 38234810\n",
      "total_discount_price_list= 7700021\n"
     ]
    }
   ],
   "source": [
    "#...........................................Price....................................................\n",
    "# 1.baby_product_total=496792\n",
    "# 2.Books_product_total=305797\n",
    "# 3.Foods_product_total=315286\n",
    "# 4.Furn_product_total=4138695\n",
    "# 5.Laptop_product_total=23824187\n",
    "# 6.Men_westen_product_total=357889\n",
    "# 7.Mobiles_product_total=5974520\n",
    "# 8.Women_footwera_product_total=597704\n",
    "# 9.Women_wester_product_total=452599\n",
    "\n",
    "#...........................................Original_price.........................................\n",
    "# 1.baby_product_total=693500\n",
    "# 2.Books_product_total=416857\n",
    "# 3.Foods_product_total=416954\n",
    "# 4.Furn_product_total=416954\n",
    "# 5.Laptop_product_total=26563604\n",
    "# 6.Men_westen_product_total=883861\n",
    "# 7.Mobiles_product_total=6641472\n",
    "# 8.Women_footwera_product_total=1075282\n",
    "# 9.Women_wester_product_total=1126326\n",
    "\n",
    "#...........................................Discounts............................................\n",
    "# 1.baby_product_total=196708\n",
    "# 2.Books_product_total=111060\n",
    "# 3.Foods_product_total=101668\n",
    "# 4.Furn_product_total=2206939\n",
    "# 5.Laptop_product_total=2739417\n",
    "# 6.Men_westen_product_total=525972\n",
    "# 7.Mobiles_product_total=666952\n",
    "# 8.Women_footwera_product_total=477578\n",
    "# 9.Women_wester_product_total=673727\n",
    "\n",
    "total_Price_list=[496792,305797,315286,4138695,23824187,357889,5974520,597704,452599]\n",
    "total_original_price_list=[693500,416857,416954,416954,26563604,883861,6641472,1075282,1126326]\n",
    "total_discount_price_list=[196708,111060,101668,2206939,2739417,525972,666952,477578,673727]\n",
    "\n",
    "def total_sum(a):\n",
    "    total = 0\n",
    "    for val in a:\n",
    "        total = total + int(val)\n",
    "        #print(total)\n",
    "    return total\n",
    "print (\"total_Price_list=\", total_sum(total_Price_list))\n",
    "print (\"total_original_price_list=\", total_sum(total_original_price_list))\n",
    "print (\"total_discount_price_list=\", total_sum(total_discount_price_list))\n",
    "\n"
   ]
  },
  {
   "cell_type": "code",
   "execution_count": 65,
   "metadata": {},
   "outputs": [
    {
     "name": "stdout",
     "output_type": "stream",
     "text": [
      "[0 1 2]\n",
      "0 36463469\n",
      "1 38234810\n",
      "2 7700021\n"
     ]
    },
    {
     "data": {
      "image/png": "[encoded data removed]",
      "text/plain": [
       "<Figure size 720x360 with 1 Axes>"
      ]
     },
     "metadata": {
      "needs_background": "light"
     },
     "output_type": "display_data"
    }
   ],
   "source": [
    "x = [u'price', u'Original_price', u'Discount']\n",
    "y = [36463469,38234810,7700021]\n",
    "\n",
    "fig, ax = plt.subplots(figsize=(10, 5))   \n",
    "width = 0.5 # the width of the bars \n",
    "ind = np.arange(len(y)) \n",
    "print(ind)# the x locations for the groups\n",
    "plt.bar(ind, y, width, color=\"g\")\n",
    "ax.set_xticks(ind)\n",
    "ax.set_xticklabels(x, minor=False, size=15,rotation=90)\n",
    "plt.title('Total_Company_turn_Over_Amount')\n",
    "plt.ylabel('Price',size=20)  \n",
    "\n",
    "for i, v in enumerate(y):\n",
    "    print(i,v)\n",
    "   \n",
    "    ax.text(i , v+2, str(v), color='red', fontweight='bold')\n",
    "plt.show()"
   ]
  },
  {
   "cell_type": "code",
   "execution_count": 72,
   "metadata": {},
   "outputs": [
    {
     "data": {
      "image/png": "[encoded data removed]",
      "text/plain": [
       "<Figure size 432x288 with 1 Axes>"
      ]
     },
     "metadata": {},
     "output_type": "display_data"
    }
   ],
   "source": [
    "import matplotlib.pyplot as plt\n",
    "slices = [36463469,38234810,7700021]\n",
    "activities = ['price','Original_price','Discount']\n",
    "cols = ['c','r','b']\n",
    "outside = (0, 0, 0.1,) \n",
    "plt.pie(slices,labels=activities,colors=cols,startangle=30,explode=outside,shadow=True)\n",
    "plt.title('Interesting Graph')\n",
    "plt.legend(loc='upper right')\n",
    "plt.show()"
   ]
  },
  {
   "cell_type": "code",
   "execution_count": 76,
   "metadata": {},
   "outputs": [
    {
     "name": "stdout",
     "output_type": "stream",
     "text": [
      "44.25269663333893\n",
      "36463469\n",
      "46.402424573898315\n",
      "38234809\n",
      "9.344878792762756\n",
      "7700021\n"
     ]
    },
    {
     "data": {
      "image/png": "[encoded data removed]",
      "text/plain": [
       "<Figure size 432x288 with 1 Axes>"
      ]
     },
     "metadata": {},
     "output_type": "display_data"
    }
   ],
   "source": [
    "slices = [36463469,38234810,7700021]\n",
    "activities = ['price','Original_price','Discount']\n",
    "cols = ['c','r','b']\n",
    "outside = (0, 0, 0.1,) \n",
    "def func(pct, allvals):\n",
    "    absolute = int(pct/100.*np.sum(allvals))\n",
    "    print(pct)\n",
    "    print(absolute)\n",
    "    return absolute\n",
    "plt.pie(slices,labels=activities,colors=cols,autopct=lambda pct: func(pct, slices),startangle=30)\n",
    "plt.title('Interesting Graph')\n",
    "plt.legend(loc='upper right')\n",
    "plt.show()"
   ]
  },
  {
   "cell_type": "code",
   "execution_count": 78,
   "metadata": {},
   "outputs": [
    {
     "data": {
      "image/png": "[encoded data removed]",
      "text/plain": [
       "<Figure size 432x288 with 1 Axes>"
      ]
     },
     "metadata": {},
     "output_type": "display_data"
    }
   ],
   "source": [
    "slices = [36463469,38234810,7700021]\n",
    "activities = ['price','Original_price','Discount']\n",
    "cols = ['g','r','b']\n",
    "outside = (0, 0, 0.1,) \n",
    "plt.pie(slices,labels=activities,colors=cols,autopct='%1.1f%%',startangle=30)\n",
    "plt.title('Interesting Graph')\n",
    "plt.legend(loc='upper right')\n",
    "plt.show()"
   ]
  }
 ],
 "metadata": {
  "kernelspec": {
   "display_name": "Python 3 (ipykernel)",
   "language": "python",
   "name": "python3"
  },
  "language_info": {
   "codemirror_mode": {
    "name": "ipython",
    "version": 3
   },
   "file_extension": ".py",
   "mimetype": "text/x-python",
   "name": "python",
   "nbconvert_exporter": "python",
   "pygments_lexer": "ipython3",
   "version": "3.10.6"
  }
 },
 "nbformat": 4,
 "nbformat_minor": 4
}
